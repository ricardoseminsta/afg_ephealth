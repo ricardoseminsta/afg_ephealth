{
 "cells": [
  {
   "cell_type": "code",
   "execution_count": 91,
   "id": "f2815ad1",
   "metadata": {},
   "outputs": [],
   "source": [
    "from selenium import webdriver\n",
    "from selenium.webdriver.chrome.service import Service\n",
    "from webdriver_manager.chrome import ChromeDriverManager\n",
    "\n",
    "from webdriver_manager.firefox import GeckoDriverManager\n",
    "\n",
    "\n",
    "from selenium.webdriver.common.by import By\n",
    "from selenium.webdriver.common.keys import Keys\n",
    "from selenium.webdriver.support.ui import Select\n",
    "\n",
    "from selenium.common.exceptions import NoSuchElementException\n",
    "from selenium.webdriver.support.ui import Select\n",
    "import time"
   ]
  },
  {
   "cell_type": "code",
   "execution_count": 92,
   "id": "3695616e",
   "metadata": {},
   "outputs": [
    {
     "data": {
      "text/html": [
       "<div>\n",
       "<style scoped>\n",
       "    .dataframe tbody tr th:only-of-type {\n",
       "        vertical-align: middle;\n",
       "    }\n",
       "\n",
       "    .dataframe tbody tr th {\n",
       "        vertical-align: top;\n",
       "    }\n",
       "\n",
       "    .dataframe thead th {\n",
       "        text-align: right;\n",
       "    }\n",
       "</style>\n",
       "<table border=\"1\" class=\"dataframe\">\n",
       "  <thead>\n",
       "    <tr style=\"text-align: right;\">\n",
       "      <th></th>\n",
       "      <th>login</th>\n",
       "      <th>senha</th>\n",
       "      <th>ubs</th>\n",
       "    </tr>\n",
       "  </thead>\n",
       "  <tbody>\n",
       "    <tr>\n",
       "      <th>0</th>\n",
       "      <td>joana</td>\n",
       "      <td>05216791418</td>\n",
       "      <td>borges</td>\n",
       "    </tr>\n",
       "  </tbody>\n",
       "</table>\n",
       "</div>"
      ],
      "text/plain": [
       "   login        senha     ubs\n",
       "0  joana  05216791418  borges"
      ]
     },
     "metadata": {},
     "output_type": "display_data"
    }
   ],
   "source": [
    "import pandas as pd\n",
    "from datetime import datetime\n",
    "\n",
    "\n",
    "pos = 0\n",
    "autentica = pd.read_excel('ls.xlsx')\n",
    "login = str(autentica['login'][pos])\n",
    "\n",
    "autentica['senha'] = autentica['senha'].astype(str)\n",
    "autentica['senha'] = autentica['senha'].str.zfill(11)\n",
    "\n",
    "senha = autentica['senha'][pos]\n",
    "\n",
    "display(autentica)\n",
    "name = str(autentica['ubs'][pos])\n",
    "data_e_hora_atuais = datetime.now()\n",
    "data_e_hora = data_e_hora_atuais.strftime('%Y-%m-%d_%H-%M')"
   ]
  },
  {
   "cell_type": "code",
   "execution_count": 93,
   "id": "ebf9dd41",
   "metadata": {},
   "outputs": [],
   "source": [
    "def openEpHealph():\n",
    "    \n",
    "    global nav\n",
    "    nav = webdriver.Firefox(executable_path=GeckoDriverManager().install())\n",
    "#     nav = webdriver.Chrome(service=Service(ChromeDriverManager().install()))\n",
    "#     nav = webdriver.Chrome(ChromeDriverManager().install())\n",
    "    nav.get(\"https://afogadosdaingazeira.ephealth.com.br/portal/login\")\n",
    "    \n",
    "    # inserindo usuário\n",
    "    nav.find_element(By.ID, 'EMail').click()\n",
    "    nav.find_element(By.ID, 'EMail').send_keys(login)\n",
    "\n",
    "    # inserindo senha \n",
    "    nav.find_element(By.ID, 'Password').click()\n",
    "    nav.find_element(By.ID, 'Password').send_keys(senha)\n",
    "\n",
    "    nav.find_element(By.XPATH, '/html/body/form/button').click()"
   ]
  },
  {
   "cell_type": "code",
   "execution_count": 94,
   "id": "b85549c6",
   "metadata": {},
   "outputs": [],
   "source": [
    "raceList = ['branca', 'preta', 'amarela', 'parda', 'indígena', 'Sem Informação']\n",
    "\n",
    "def people(raceItem):\n",
    "    \n",
    "    openEpHealph()\n",
    "    nav.get(\"https://afogadosdaingazeira.ephealth.com.br/portal/individuo\")\n",
    "    \n",
    "    nav.find_element(By.XPATH, '//*[@id=\"img_hipertensaoFlag\"]').click()\n",
    "    time.sleep(1)\n",
    "    race = nav.find_element(By.XPATH, '/html/body/div[1]/div[2]/div[1]/div[2]/div[2]/div/div/div/form/div[3]/div[5]/span/span[1]/span/ul/li/input')\n",
    "    race.click()\n",
    "    time.sleep(1)\n",
    "    race.send_keys(raceList[raceItem])\n",
    "    race.send_keys(Keys.ENTER)\n",
    "    time.sleep(1)\n",
    "    \n",
    "    unity = nav.find_element(By.XPATH, '/html/body/div[1]/div[2]/div[1]/div[2]/div[2]/div/div/div/form/div[4]/div[1]/span/span[1]/span/span[2]')\n",
    "    unity.click()\n",
    "    time.sleep(1)\n",
    "    nav.find_element(By.XPATH,'/html/body/span/span/span[1]/input').send_keys(Keys.ENTER)\n",
    "    time.sleep(1)\n",
    "    nav.find_element(By.ID, 'button').click()\n",
    "    \n",
    "    time.sleep(1)\n",
    "    nav.find_element(By.ID, 'card-toggle').click()\n",
    "    time.sleep(10)"
   ]
  },
  {
   "cell_type": "code",
   "execution_count": 95,
   "id": "d7460fc1",
   "metadata": {},
   "outputs": [],
   "source": [
    "table = []\n",
    "\n",
    "def get_list():\n",
    "    people(1)\n",
    "    \n",
    "    peoples = nav.find_element(By.CLASS_NAME, 'dataTables_scrollBody')\n",
    "    col = peoples.find_elements(By.TAG_NAME, 'td')\n",
    "    \n",
    "    for i in col:\n",
    "        tabela.append(i.text)\n",
    "    \n",
    "\n",
    "    "
   ]
  },
  {
   "cell_type": "code",
   "execution_count": null,
   "id": "f1866fa4",
   "metadata": {},
   "outputs": [],
   "source": [
    "get_list()\n",
    "print(tabela)"
   ]
  }
 ],
 "metadata": {
  "kernelspec": {
   "display_name": "Python 3 (ipykernel)",
   "language": "python",
   "name": "python3"
  },
  "language_info": {
   "codemirror_mode": {
    "name": "ipython",
    "version": 3
   },
   "file_extension": ".py",
   "mimetype": "text/x-python",
   "name": "python",
   "nbconvert_exporter": "python",
   "pygments_lexer": "ipython3",
   "version": "3.10.9"
  }
 },
 "nbformat": 4,
 "nbformat_minor": 5
}
